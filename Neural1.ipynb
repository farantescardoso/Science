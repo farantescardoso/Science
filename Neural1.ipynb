{
  "nbformat": 4,
  "nbformat_minor": 0,
  "metadata": {
    "colab": {
      "private_outputs": true,
      "provenance": [],
      "authorship_tag": "ABX9TyPGmZ4dlQU5m4f/C1CkRKYA",
      "include_colab_link": true
    },
    "kernelspec": {
      "name": "python3",
      "display_name": "Python 3"
    },
    "language_info": {
      "name": "python"
    }
  },
  "cells": [
    {
      "cell_type": "markdown",
      "metadata": {
        "id": "view-in-github",
        "colab_type": "text"
      },
      "source": [
        "<a href=\"https://colab.research.google.com/github/farantescardoso/Science/blob/main/Neural1.ipynb\" target=\"_parent\"><img src=\"https://colab.research.google.com/assets/colab-badge.svg\" alt=\"Open In Colab\"/></a>"
      ]
    },
    {
      "cell_type": "code",
      "execution_count": null,
      "metadata": {
        "id": "QFQbdImlAgaR"
      },
      "outputs": [],
      "source": [
        "import pandas as pd\n",
        "from sklearn.model_selection import train_test_split\n",
        "from sklearn import metrics\n",
        "from sklearn.metrics import confusion_matrix, accuracy_score\n",
        "from sklearn.ensemble import RandomForestClassifier\n",
        "from sklearn.feature_extraction.text import TfidfVectorizer"
      ]
    },
    {
      "cell_type": "code",
      "source": [
        "from google.colab import files\n",
        "uploaded = files.upload()"
      ],
      "metadata": {
        "id": "Js_kHrPZB7oh"
      },
      "execution_count": null,
      "outputs": []
    },
    {
      "cell_type": "code",
      "source": [
        "spam = pd.read_csv(\"spam.csv\")\n",
        "spam.head()"
      ],
      "metadata": {
        "id": "chI04SG2DVLy"
      },
      "execution_count": null,
      "outputs": []
    },
    {
      "cell_type": "code",
      "source": [
        "spam.shape"
      ],
      "metadata": {
        "id": "grWF5mVxDzW5"
      },
      "execution_count": null,
      "outputs": []
    },
    {
      "cell_type": "code",
      "source": [
        "spam['Category'].value_counts()"
      ],
      "metadata": {
        "id": "u83Tt6UHD3LC"
      },
      "execution_count": null,
      "outputs": []
    },
    {
      "cell_type": "code",
      "source": [
        "previ = spam['Message']\n",
        "classe = spam['Category']"
      ],
      "metadata": {
        "id": "1RJ-Ec0lEwxW"
      },
      "execution_count": null,
      "outputs": []
    },
    {
      "cell_type": "code",
      "source": [
        "vetorizador = TfidfVectorizer()\n",
        "previsores = vetorizador.fit_transform(previ)\n",
        "print(previsores.shape)"
      ],
      "metadata": {
        "id": "hFpLxbESFMBe"
      },
      "execution_count": null,
      "outputs": []
    },
    {
      "cell_type": "code",
      "source": [
        "print(vetorizador.get_feature_names_out()[10:100])"
      ],
      "metadata": {
        "id": "It-9r75gHJ3i"
      },
      "execution_count": null,
      "outputs": []
    },
    {
      "cell_type": "code",
      "source": [
        "X_treinamento, X_teste, y_treinamento, y_teste = train_test_split(previsores, classe, test_size=0.3)\n"
      ],
      "metadata": {
        "id": "qmRrGm8THW-3"
      },
      "execution_count": null,
      "outputs": []
    },
    {
      "cell_type": "code",
      "source": [
        "X_teste.shape"
      ],
      "metadata": {
        "id": "Oft7ZNASLiSK"
      },
      "execution_count": null,
      "outputs": []
    },
    {
      "cell_type": "code",
      "source": [
        "floresta = RandomForestClassifier(n_estimators=500)\n",
        "floresta.fit(X_treinamento, y_treinamento)"
      ],
      "metadata": {
        "id": "Ag3azJNSMEz1"
      },
      "execution_count": null,
      "outputs": []
    },
    {
      "cell_type": "code",
      "source": [
        "previsoes = floresta.predict(X_teste)\n",
        "print(previsoes)"
      ],
      "metadata": {
        "id": "m1Eor9qzNGCR"
      },
      "execution_count": null,
      "outputs": []
    },
    {
      "cell_type": "code",
      "source": [
        "print(confusion_matrix(y_teste, previsoes))"
      ],
      "metadata": {
        "id": "xJYuJeO7NYUZ"
      },
      "execution_count": null,
      "outputs": []
    },
    {
      "cell_type": "code",
      "source": [
        "print(accuracy_score(y_teste, previsoes))\n",
        "print(metrics.classification_report(y_teste, previsoes))"
      ],
      "metadata": {
        "id": "KSnKHGDDN9Xu"
      },
      "execution_count": null,
      "outputs": []
    },
    {
      "cell_type": "code",
      "source": [
        "import pandas as pd\n",
        "from sklearn.model_selection import train_test_split\n",
        "from sklearn.preprocessing import LabelEncoder\n",
        "from sklearn.feature_extraction.text import CountVectorizer\n",
        "from sklearn.metrics import confusion_matrix\n",
        "from keras.models import Sequential\n",
        "from keras.layers import Dense, Dropout\n",
        "from google.colab import files"
      ],
      "metadata": {
        "id": "aXY6ERIgO2XO"
      },
      "execution_count": null,
      "outputs": []
    },
    {
      "cell_type": "code",
      "source": [
        "files.upload()"
      ],
      "metadata": {
        "id": "BZdF9VekTiiB"
      },
      "execution_count": null,
      "outputs": []
    },
    {
      "cell_type": "code",
      "source": [
        "spam = pd.read_csv(\"spam.csv\")\n",
        "spam.head()"
      ],
      "metadata": {
        "id": "KO1N2G0zWw2V"
      },
      "execution_count": null,
      "outputs": []
    },
    {
      "cell_type": "code",
      "source": [
        "from sklearn.preprocessing import LabelEncoder\n",
        "\n",
        "labelEncoder = LabelEncoder()\n",
        "y = labelEncoder.fit_transform(spam['Category'])\n",
        "print(y)\n"
      ],
      "metadata": {
        "id": "ZPhBvkaebwq5"
      },
      "execution_count": null,
      "outputs": []
    },
    {
      "cell_type": "code",
      "source": [
        "mensagens = spam['Message'].values\n",
        "X_train, X_test, y_train, y_test = train_test_split(mensagens, y, test_size=3)\n",
        "print(X_train)"
      ],
      "metadata": {
        "id": "4K49mcNcceqC"
      },
      "execution_count": null,
      "outputs": []
    },
    {
      "cell_type": "code",
      "source": [
        "vetorizador = CountVectorizer()\n",
        "vetorizador.fit(X_train)\n",
        "X_train = vetorizador.transform(X_train)\n",
        "X_test = vetorizador.transform(X_test)\n",
        "print(X_train.toarray())"
      ],
      "metadata": {
        "id": "vbDeAW9LeG-F"
      },
      "execution_count": null,
      "outputs": []
    },
    {
      "cell_type": "code",
      "source": [
        "import numpy as np\n",
        "np.set_printoptions(threshold=np.inf)"
      ],
      "metadata": {
        "id": "ih78pyo3mbG_"
      },
      "execution_count": null,
      "outputs": []
    },
    {
      "cell_type": "code",
      "source": [
        "X_train.toarray()[0]"
      ],
      "metadata": {
        "id": "j2cUrSnVnVg-"
      },
      "execution_count": null,
      "outputs": []
    },
    {
      "cell_type": "code",
      "source": [
        "print(X_train.shape[1])"
      ],
      "metadata": {
        "id": "9FetTa7-neCT"
      },
      "execution_count": null,
      "outputs": []
    },
    {
      "cell_type": "code",
      "source": [
        "modelo = Sequential()\n",
        "modelo.add(Dense(units=10, activation=\"relu\", input_dim=X_train.shape[1]))\n",
        "modelo.add(Dropout(0.1))\n",
        "modelo.add(Dense(units=8, activation=\"relu\"))\n",
        "modelo.add(Dropout(0.1))\n",
        "modelo.add(Dense(units=1, activation=\"sigmoid\"))"
      ],
      "metadata": {
        "id": "o36Zi1eoo6sn"
      },
      "execution_count": null,
      "outputs": []
    },
    {
      "cell_type": "code",
      "source": [
        "modelo.compile(loss=\"mean_squared_error\", optimizer=\"adam\", metrics=[\"accuracy\"])\n",
        "modelo.summary()"
      ],
      "metadata": {
        "id": "jeeboVvmqzkC"
      },
      "execution_count": null,
      "outputs": []
    },
    {
      "cell_type": "code",
      "source": [
        "  modelo.fit(X_train, y_train, epochs=20, batch_size=10, verbose=True, validation_data=(X_test, y_test))\n"
      ],
      "metadata": {
        "id": "U8i0WH-Mr3RA"
      },
      "execution_count": null,
      "outputs": []
    },
    {
      "cell_type": "code",
      "source": [
        "loss, accuracy = modelo.evaluate(X_test, y_test)\n",
        "print(\"Loss: \", loss)\n",
        "print(\"Acurracy: \", accuracy)"
      ],
      "metadata": {
        "id": "6-B1FPN9uIZ5"
      },
      "execution_count": null,
      "outputs": []
    },
    {
      "cell_type": "code",
      "source": [
        "nova_previsao = modelo.predict(X_test)\n",
        "print(nova_previsao)"
      ],
      "metadata": {
        "id": "Rf34VjQ_vKRi"
      },
      "execution_count": null,
      "outputs": []
    },
    {
      "cell_type": "code",
      "source": [
        "prev = (nova_previsao > 0.5)\n",
        "print(prev)"
      ],
      "metadata": {
        "id": "ymr-ByeCvv9F"
      },
      "execution_count": null,
      "outputs": []
    },
    {
      "cell_type": "code",
      "source": [
        "cm = confusion_matrix(y_test, prev)\n",
        "print(cm)"
      ],
      "metadata": {
        "id": "84PVEiKwwFgs"
      },
      "execution_count": null,
      "outputs": []
    }
  ]
}